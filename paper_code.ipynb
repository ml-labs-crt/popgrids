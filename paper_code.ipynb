{
 "cells": [
  {
   "cell_type": "markdown",
   "metadata": {},
   "source": [
    "## Assessing the Quality of Gridded Population Data for Quantifying the Population Living in Deprived Communities"
   ]
  },
  {
   "cell_type": "markdown",
   "metadata": {},
   "source": [
    "Code for the paper \"Assessing the Quality of Gridded Population Data for Quantifying the Population Living in Deprived Communities\" represented at Machine Learning for the Developing World (ML4D) at NeurIPS 2020. <br>"
   ]
  },
  {
   "cell_type": "code",
   "execution_count": 1,
   "metadata": {},
   "outputs": [],
   "source": [
    "import fiona\n",
    "import rasterio\n",
    "import rasterio.mask\n",
    "from rasterio.enums import Resampling\n",
    "import matplotlib.pyplot as plt\n",
    "import numpy as np\n",
    "import pandas as pd\n",
    "from rasterstats import zonal_stats\n",
    "import geopandas as gpd\n",
    "import collections, numpy"
   ]
  },
  {
   "cell_type": "code",
   "execution_count": 2,
   "metadata": {},
   "outputs": [
    {
     "name": "stdout",
     "output_type": "stream",
     "text": [
      "epsg:4674\n",
      "epsg:4326\n",
      "1703\n"
     ]
    },
    {
     "data": {
      "text/plain": [
       "geopandas.geodataframe.GeoDataFrame"
      ]
     },
     "execution_count": 2,
     "metadata": {},
     "output_type": "execute_result"
    }
   ],
   "source": [
    "#Loading shapefile with deprived areas and converting it to the same CRS as the gridded polutation datasets\n",
    "shapeoriginal = gpd.read_file(\"SmallerRegions/GreaterSaoPaulo/GreaterSaoPaulo.shp\")\n",
    "print(shapeoriginal.crs)\n",
    "shape_epsg  = shapeoriginal.to_crs(epsg=4326)\n",
    "print(shape_epsg.crs)\n",
    "print(shape_epsg['CodAGSN'].nunique())\n",
    "type(shape_epsg)"
   ]
  },
  {
   "cell_type": "code",
   "execution_count": null,
   "metadata": {},
   "outputs": [],
   "source": [
    "#Create a output path for the data\n",
    "#outfp = \"SmallerRegions/GreaterSaoPaulo/GreaterSaoPaulo_epsg4326.shp\"\n",
    "#shape_epsg.to_file(outfp)\n",
    "#shape_epsg.plot(figsize=(15,15),edgecolor=\"blue\", facecolor=\"none\")"
   ]
  },
  {
   "cell_type": "markdown",
   "metadata": {},
   "source": [
    "# WorldPOP"
   ]
  },
  {
   "cell_type": "markdown",
   "metadata": {},
   "source": [
    "As mentioned in the paper, WorldPOP 2010 gridded population was assessed. The file was accessed on https://www.worldpop.org/ by selecting Individual Contries -> Brazil 2010 -> 100m resolution (the data that was not UN adjusted was used). "
   ]
  },
  {
   "cell_type": "code",
   "execution_count": 3,
   "metadata": {},
   "outputs": [
    {
     "data": {
      "text/plain": [
       "{'driver': 'GTiff',\n",
       " 'dtype': 'float32',\n",
       " 'nodata': -99999.0,\n",
       " 'width': 54172,\n",
       " 'height': 46814,\n",
       " 'count': 1,\n",
       " 'crs': CRS.from_epsg(4326),\n",
       " 'transform': Affine(0.0008333333300044304, 0.0, -73.989583022,\n",
       "        0.0, -0.0008333333300081173, 5.264583514)}"
      ]
     },
     "execution_count": 3,
     "metadata": {},
     "output_type": "execute_result"
    }
   ],
   "source": [
    "path_popgrid = r\"C:/Users/agati/Documents/DatasetsLocal/GriddedPop/WorldPOP/bra_ppp_2010.tif\"\n",
    "popgrid = rasterio.open(path_popgrid)\n",
    "popgrid.meta"
   ]
  },
  {
   "cell_type": "code",
   "execution_count": 4,
   "metadata": {},
   "outputs": [],
   "source": [
    "zs_feats = zonal_stats(shape_epsg,'C:/Users/agati/Documents/DatasetsLocal/GriddedPop/WorldPOP/bra_ppp_2010.tif', stats=['sum'], geojson_out=True, raster_out=True)"
   ]
  },
  {
   "cell_type": "code",
   "execution_count": 5,
   "metadata": {},
   "outputs": [
    {
     "data": {
      "text/plain": [
       "{'id': '0',\n",
       " 'type': 'Feature',\n",
       " 'properties': {'CD_GEOCODM': '3516408',\n",
       "  'CodAGSN': '35164080001',\n",
       "  'NM_AGSN': 'VILA BAZU',\n",
       "  'NM_MUNICIP': 'FRANCO DA ROCHA',\n",
       "  'uf': '35',\n",
       "  'sum': 301.90716552734375,\n",
       "  'mini_raster_array': masked_array(\n",
       "    data=[[85.9791488647461, 44.90716552734375],\n",
       "          [84.2720947265625, --],\n",
       "          [86.74876403808594, --],\n",
       "          [--, --]],\n",
       "    mask=[[False, False],\n",
       "          [False,  True],\n",
       "          [False,  True],\n",
       "          [ True,  True]],\n",
       "    fill_value=1e+20,\n",
       "    dtype=float32),\n",
       "  'mini_raster_affine': Affine(0.0008333333300044304, 0.0, -46.73041646422509,\n",
       "         0.0, -0.0008333333300081173, -23.320416371938443),\n",
       "  'mini_raster_nodata': -99999.0},\n",
       " 'geometry': {'type': 'Polygon',\n",
       "  'coordinates': (((-46.729898999754994, -23.32314699999864),\n",
       "    (-46.730046000235916, -23.323103999815146),\n",
       "    (-46.73025199983931, -23.32299200004826),\n",
       "    (-46.73037400006717, -23.322649000424917),\n",
       "    (-46.73038699976706, -23.321936999979755),\n",
       "    (-46.73014300021072, -23.32088600009564),\n",
       "    (-46.73001999993676, -23.32051800021918),\n",
       "    (-46.729582999577644, -23.32056799982604),\n",
       "    (-46.729042999866465, -23.320598000309644),\n",
       "    (-46.72914299997956, -23.3208290001661),\n",
       "    (-46.72930999958379, -23.32114899962852),\n",
       "    (-46.72951500004035, -23.321577999618853),\n",
       "    (-46.72960100040734, -23.321870999635337),\n",
       "    (-46.72963300008382, -23.322088999791845),\n",
       "    (-46.729673000129026, -23.3224340004067),\n",
       "    (-46.729836999594966, -23.32293500011872),\n",
       "    (-46.729898999754994, -23.32314699999864)),)},\n",
       " 'bbox': (-46.73038699976706,\n",
       "  -23.32314699999864,\n",
       "  -46.729042999866465,\n",
       "  -23.32051800021918)}"
      ]
     },
     "execution_count": 5,
     "metadata": {},
     "output_type": "execute_result"
    }
   ],
   "source": [
    "zs_feats[0]"
   ]
  },
  {
   "cell_type": "code",
   "execution_count": 6,
   "metadata": {},
   "outputs": [],
   "source": [
    "extract = []\n",
    "for i in range(0,len(zs_feats)):\n",
    "    extract.append(zs_feats[i]['properties']['CD_GEOCODM'])\n",
    "    extract.append(zs_feats[i]['properties']['NM_AGSN'])\n",
    "    extract.append(zs_feats[i]['properties']['CodAGSN'])\n",
    "    extract.append(zs_feats[i]['properties']['sum'])\n",
    "array = np.asarray(extract)\n",
    "array = array.reshape(len(zs_feats),4)\n",
    "raw_results = pd.DataFrame(array, columns=['CD_GEOCODM','NM_AGSN','CodAGSN','sum'])"
   ]
  },
  {
   "cell_type": "code",
   "execution_count": 10,
   "metadata": {},
   "outputs": [],
   "source": [
    "#raw_results.to_csv('raw_resultsWorldPOP2010.csv')\n",
    "#raw_results = pd.read_csv('raw_resultsWorldPOP2010.csv', index_col=0)"
   ]
  },
  {
   "cell_type": "code",
   "execution_count": 7,
   "metadata": {
    "scrolled": false
   },
   "outputs": [
    {
     "name": "stdout",
     "output_type": "stream",
     "text": [
      "(1703, 4)\n"
     ]
    },
    {
     "data": {
      "text/html": [
       "<div>\n",
       "<style scoped>\n",
       "    .dataframe tbody tr th:only-of-type {\n",
       "        vertical-align: middle;\n",
       "    }\n",
       "\n",
       "    .dataframe tbody tr th {\n",
       "        vertical-align: top;\n",
       "    }\n",
       "\n",
       "    .dataframe thead th {\n",
       "        text-align: right;\n",
       "    }\n",
       "</style>\n",
       "<table border=\"1\" class=\"dataframe\">\n",
       "  <thead>\n",
       "    <tr style=\"text-align: right;\">\n",
       "      <th></th>\n",
       "      <th>CD_GEOCODM</th>\n",
       "      <th>NM_AGSN</th>\n",
       "      <th>CodAGSN</th>\n",
       "      <th>sum</th>\n",
       "    </tr>\n",
       "  </thead>\n",
       "  <tbody>\n",
       "    <tr>\n",
       "      <th>0</th>\n",
       "      <td>3516408</td>\n",
       "      <td>VILA BAZU</td>\n",
       "      <td>35164080001</td>\n",
       "      <td>301.907</td>\n",
       "    </tr>\n",
       "    <tr>\n",
       "      <th>1</th>\n",
       "      <td>3516408</td>\n",
       "      <td>PRETÓRIA</td>\n",
       "      <td>35164080002</td>\n",
       "      <td>3007.59</td>\n",
       "    </tr>\n",
       "    <tr>\n",
       "      <th>2</th>\n",
       "      <td>3516408</td>\n",
       "      <td>PARQUE MONTREAL</td>\n",
       "      <td>35164080004</td>\n",
       "      <td>316</td>\n",
       "    </tr>\n",
       "    <tr>\n",
       "      <th>3</th>\n",
       "      <td>3516408</td>\n",
       "      <td>VILA PALMARES</td>\n",
       "      <td>35164080005</td>\n",
       "      <td>551.331</td>\n",
       "    </tr>\n",
       "    <tr>\n",
       "      <th>4</th>\n",
       "      <td>3516408</td>\n",
       "      <td>ARCO ÍRIS</td>\n",
       "      <td>35164080006</td>\n",
       "      <td>1385</td>\n",
       "    </tr>\n",
       "  </tbody>\n",
       "</table>\n",
       "</div>"
      ],
      "text/plain": [
       "  CD_GEOCODM          NM_AGSN      CodAGSN      sum\n",
       "0    3516408        VILA BAZU  35164080001  301.907\n",
       "1    3516408         PRETÓRIA  35164080002  3007.59\n",
       "2    3516408  PARQUE MONTREAL  35164080004      316\n",
       "3    3516408    VILA PALMARES  35164080005  551.331\n",
       "4    3516408        ARCO ÍRIS  35164080006     1385"
      ]
     },
     "execution_count": 7,
     "metadata": {},
     "output_type": "execute_result"
    }
   ],
   "source": [
    "print(raw_results.shape)\n",
    "raw_results.head()"
   ]
  },
  {
   "cell_type": "code",
   "execution_count": 8,
   "metadata": {},
   "outputs": [
    {
     "data": {
      "text/plain": [
       "CD_GEOCODM    object\n",
       "NM_AGSN       object\n",
       "CodAGSN       object\n",
       "sum           object\n",
       "dtype: object"
      ]
     },
     "execution_count": 8,
     "metadata": {},
     "output_type": "execute_result"
    }
   ],
   "source": [
    "raw_results.dtypes"
   ]
  },
  {
   "cell_type": "code",
   "execution_count": 9,
   "metadata": {},
   "outputs": [
    {
     "name": "stdout",
     "output_type": "stream",
     "text": [
      "CD_GEOCODM     object\n",
      "NM_AGSN        object\n",
      "CodAGSN       float64\n",
      "sum           float64\n",
      "dtype: object\n"
     ]
    }
   ],
   "source": [
    "raw_results['sum'] = raw_results['sum'].astype(float)\n",
    "raw_results['CodAGSN'] = raw_results['CodAGSN'].astype(float)\n",
    "print(raw_results.dtypes)"
   ]
  },
  {
   "cell_type": "code",
   "execution_count": 10,
   "metadata": {},
   "outputs": [
    {
     "data": {
      "text/html": [
       "<div>\n",
       "<style scoped>\n",
       "    .dataframe tbody tr th:only-of-type {\n",
       "        vertical-align: middle;\n",
       "    }\n",
       "\n",
       "    .dataframe tbody tr th {\n",
       "        vertical-align: top;\n",
       "    }\n",
       "\n",
       "    .dataframe thead th {\n",
       "        text-align: right;\n",
       "    }\n",
       "</style>\n",
       "<table border=\"1\" class=\"dataframe\">\n",
       "  <thead>\n",
       "    <tr style=\"text-align: right;\">\n",
       "      <th></th>\n",
       "      <th>CD_GEOCODM</th>\n",
       "      <th>NM_AGSN</th>\n",
       "      <th>CodAGSN</th>\n",
       "      <th>Estimated_Population</th>\n",
       "    </tr>\n",
       "  </thead>\n",
       "  <tbody>\n",
       "    <tr>\n",
       "      <th>0</th>\n",
       "      <td>3516408</td>\n",
       "      <td>VILA BAZU</td>\n",
       "      <td>3.516408e+10</td>\n",
       "      <td>301.907166</td>\n",
       "    </tr>\n",
       "    <tr>\n",
       "      <th>1</th>\n",
       "      <td>3516408</td>\n",
       "      <td>PRETÓRIA</td>\n",
       "      <td>3.516408e+10</td>\n",
       "      <td>3007.592529</td>\n",
       "    </tr>\n",
       "    <tr>\n",
       "      <th>2</th>\n",
       "      <td>3516408</td>\n",
       "      <td>PARQUE MONTREAL</td>\n",
       "      <td>3.516408e+10</td>\n",
       "      <td>316.000000</td>\n",
       "    </tr>\n",
       "    <tr>\n",
       "      <th>3</th>\n",
       "      <td>3516408</td>\n",
       "      <td>VILA PALMARES</td>\n",
       "      <td>3.516408e+10</td>\n",
       "      <td>551.330688</td>\n",
       "    </tr>\n",
       "    <tr>\n",
       "      <th>4</th>\n",
       "      <td>3516408</td>\n",
       "      <td>ARCO ÍRIS</td>\n",
       "      <td>3.516408e+10</td>\n",
       "      <td>1385.000000</td>\n",
       "    </tr>\n",
       "  </tbody>\n",
       "</table>\n",
       "</div>"
      ],
      "text/plain": [
       "  CD_GEOCODM          NM_AGSN       CodAGSN  Estimated_Population\n",
       "0    3516408        VILA BAZU  3.516408e+10            301.907166\n",
       "1    3516408         PRETÓRIA  3.516408e+10           3007.592529\n",
       "2    3516408  PARQUE MONTREAL  3.516408e+10            316.000000\n",
       "3    3516408    VILA PALMARES  3.516408e+10            551.330688\n",
       "4    3516408        ARCO ÍRIS  3.516408e+10           1385.000000"
      ]
     },
     "execution_count": 10,
     "metadata": {},
     "output_type": "execute_result"
    }
   ],
   "source": [
    "raw_results.columns = ['CD_GEOCODM','NM_AGSN','CodAGSN','Estimated_Population']\n",
    "raw_results.head()"
   ]
  },
  {
   "cell_type": "code",
   "execution_count": 11,
   "metadata": {},
   "outputs": [
    {
     "name": "stdout",
     "output_type": "stream",
     "text": [
      "Index(['CD_AGSN', 'DPO_EmAGSN', 'PopEmDPO_EmAGSN'], dtype='object')\n"
     ]
    },
    {
     "data": {
      "text/html": [
       "<div>\n",
       "<style scoped>\n",
       "    .dataframe tbody tr th:only-of-type {\n",
       "        vertical-align: middle;\n",
       "    }\n",
       "\n",
       "    .dataframe tbody tr th {\n",
       "        vertical-align: top;\n",
       "    }\n",
       "\n",
       "    .dataframe thead th {\n",
       "        text-align: right;\n",
       "    }\n",
       "</style>\n",
       "<table border=\"1\" class=\"dataframe\">\n",
       "  <thead>\n",
       "    <tr style=\"text-align: right;\">\n",
       "      <th></th>\n",
       "      <th>CodAGSN</th>\n",
       "      <th>DPO_EmAGSN</th>\n",
       "      <th>Pop_EmAGSN</th>\n",
       "    </tr>\n",
       "  </thead>\n",
       "  <tbody>\n",
       "    <tr>\n",
       "      <th>1</th>\n",
       "      <td>51034030004</td>\n",
       "      <td>2134</td>\n",
       "      <td>7383</td>\n",
       "    </tr>\n",
       "    <tr>\n",
       "      <th>2</th>\n",
       "      <td>51034030005</td>\n",
       "      <td>2709</td>\n",
       "      <td>9498</td>\n",
       "    </tr>\n",
       "    <tr>\n",
       "      <th>3</th>\n",
       "      <td>51034030006</td>\n",
       "      <td>1952</td>\n",
       "      <td>6936</td>\n",
       "    </tr>\n",
       "    <tr>\n",
       "      <th>4</th>\n",
       "      <td>51034030007</td>\n",
       "      <td>197</td>\n",
       "      <td>715</td>\n",
       "    </tr>\n",
       "    <tr>\n",
       "      <th>5</th>\n",
       "      <td>51034030008</td>\n",
       "      <td>1867</td>\n",
       "      <td>6426</td>\n",
       "    </tr>\n",
       "  </tbody>\n",
       "</table>\n",
       "</div>"
      ],
      "text/plain": [
       "       CodAGSN  DPO_EmAGSN  Pop_EmAGSN\n",
       "1  51034030004        2134        7383\n",
       "2  51034030005        2709        9498\n",
       "3  51034030006        1952        6936\n",
       "4  51034030007         197         715\n",
       "5  51034030008        1867        6426"
      ]
     },
     "execution_count": 11,
     "metadata": {},
     "output_type": "execute_result"
    }
   ],
   "source": [
    "#Reading the groud-truth population values\n",
    "raw_groundtruth = pd.read_csv(\"Ground-truth/DataAreasSlumPopulation.csv\", index_col=0)\n",
    "print(raw_groundtruth.columns)\n",
    "raw_groundtruth.columns = ['CodAGSN', 'DPO_EmAGSN', 'Pop_EmAGSN']\n",
    "raw_groundtruth.head()"
   ]
  },
  {
   "cell_type": "code",
   "execution_count": 12,
   "metadata": {},
   "outputs": [],
   "source": [
    "results2 =  raw_results.merge(raw_groundtruth,on=['CodAGSN'])"
   ]
  },
  {
   "cell_type": "code",
   "execution_count": 13,
   "metadata": {},
   "outputs": [],
   "source": [
    "#results2"
   ]
  },
  {
   "cell_type": "code",
   "execution_count": 14,
   "metadata": {},
   "outputs": [],
   "source": [
    "results2['AbsoluteDifference'] = results2['Estimated_Population']-results2['Pop_EmAGSN']"
   ]
  },
  {
   "cell_type": "code",
   "execution_count": 15,
   "metadata": {},
   "outputs": [],
   "source": [
    "results2['ProportionalDifference'] = results2['AbsoluteDifference']/results2['Pop_EmAGSN']"
   ]
  },
  {
   "cell_type": "code",
   "execution_count": 16,
   "metadata": {},
   "outputs": [],
   "source": [
    "#results2.to_csv('resultsWorldPOP2010_repo.csv')"
   ]
  },
  {
   "cell_type": "markdown",
   "metadata": {},
   "source": [
    "Overall error for all polygons."
   ]
  },
  {
   "cell_type": "code",
   "execution_count": 17,
   "metadata": {},
   "outputs": [
    {
     "data": {
      "text/plain": [
       "2035865.984515667"
      ]
     },
     "execution_count": 17,
     "metadata": {},
     "output_type": "execute_result"
    }
   ],
   "source": [
    "results2['Estimated_Population'].sum()"
   ]
  },
  {
   "cell_type": "code",
   "execution_count": 18,
   "metadata": {},
   "outputs": [
    {
     "data": {
      "text/plain": [
       "2162368"
      ]
     },
     "execution_count": 18,
     "metadata": {},
     "output_type": "execute_result"
    }
   ],
   "source": [
    "results2['Pop_EmAGSN'].sum()"
   ]
  },
  {
   "cell_type": "code",
   "execution_count": 19,
   "metadata": {},
   "outputs": [
    {
     "data": {
      "text/plain": [
       "-0.05850161280796471"
      ]
     },
     "execution_count": 19,
     "metadata": {},
     "output_type": "execute_result"
    }
   ],
   "source": [
    "(results2['Estimated_Population'].sum()-results2['Pop_EmAGSN'].sum())/results2['Pop_EmAGSN'].sum()"
   ]
  },
  {
   "cell_type": "markdown",
   "metadata": {},
   "source": [
    "Relative error by range "
   ]
  },
  {
   "cell_type": "code",
   "execution_count": 20,
   "metadata": {},
   "outputs": [],
   "source": [
    "a = results2['ProportionalDifference']\n",
    "conditions = [(a >= -.2) & (a <= 0.2), (a < -0.2) & (a >= -1), (a > 0.2) & (a <= 1), (a < -1), (a > +1)]\n",
    "choices = ['green', 'yellow', 'orange','purple','red']\n",
    "res = np.select(conditions, choices)"
   ]
  },
  {
   "cell_type": "code",
   "execution_count": 21,
   "metadata": {},
   "outputs": [
    {
     "data": {
      "text/plain": [
       "Counter({'green': 1135, 'yellow': 268, '0': 140, 'orange': 138, 'red': 22})"
      ]
     },
     "execution_count": 21,
     "metadata": {},
     "output_type": "execute_result"
    }
   ],
   "source": [
    "collections.Counter(res)"
   ]
  },
  {
   "cell_type": "markdown",
   "metadata": {},
   "source": [
    "# LandScan"
   ]
  },
  {
   "cell_type": "markdown",
   "metadata": {},
   "source": [
    "As mentioned in the paper, LandScan 2010 gridded population was assessed. The file was accessed on https://landscan.ornl.gov/ on 31/Jul/2020. More details about the dataset can be found on https://landscan.ornl.gov/documentation\n",
    "    "
   ]
  },
  {
   "cell_type": "code",
   "execution_count": 22,
   "metadata": {},
   "outputs": [
    {
     "data": {
      "text/plain": [
       "{'driver': 'GTiff',\n",
       " 'dtype': 'int32',\n",
       " 'nodata': 0.0,\n",
       " 'width': 80,\n",
       " 'height': 73,\n",
       " 'count': 1,\n",
       " 'crs': CRS.from_epsg(4326),\n",
       " 'transform': Affine(0.008333333333333304, 0.0, -46.95000000000053,\n",
       "        0.0, -0.008333333333333297, -23.26666666666692)}"
      ]
     },
     "execution_count": 22,
     "metadata": {},
     "output_type": "execute_result"
    }
   ],
   "source": [
    "path_landscan_Reduced = r\"clipped.tif\"\n",
    "landscanReduced = rasterio.open(path_landscan_Reduced)\n",
    "landscanReduced.meta"
   ]
  },
  {
   "cell_type": "code",
   "execution_count": 42,
   "metadata": {},
   "outputs": [],
   "source": [
    "#plt.imshow(landscanReduced.read(1), cmap='terrain')"
   ]
  },
  {
   "cell_type": "code",
   "execution_count": 43,
   "metadata": {},
   "outputs": [],
   "source": [
    "zs_feats = zonal_stats(shape_epsg,'C:/Users/agati/OneDrive - University College Dublin/Experiments/PopGrids/clipped.tif', stats=['sum'], geojson_out=True, raster_out=True)"
   ]
  },
  {
   "cell_type": "code",
   "execution_count": 44,
   "metadata": {},
   "outputs": [],
   "source": [
    "extract = []\n",
    "for i in range(0,len(zs_feats)):\n",
    "#    extract.append(zs_feats[i]['properties']['CD_GEOCODI'])\n",
    "    extract.append(zs_feats[i]['properties']['CD_GEOCODM'])\n",
    "    extract.append(zs_feats[i]['properties']['NM_AGSN'])\n",
    "#    extract.append(zs_feats[i]['properties']['CD_AGSN'])\n",
    "    extract.append(zs_feats[i]['properties']['CodAGSN'])\n",
    "    extract.append(zs_feats[i]['properties']['sum'])\n",
    "array = np.asarray(extract)\n",
    "array = array.reshape(len(zs_feats),4)\n",
    "#raw_results = pd.DataFrame(array, columns=['CD_GEOCODI','NM_AGSN','CD_AGSN','sum']) \n",
    "raw_results = pd.DataFrame(array, columns=['CD_GEOCODM','NM_AGSN','CodAGSN','sum'])"
   ]
  },
  {
   "cell_type": "code",
   "execution_count": 52,
   "metadata": {},
   "outputs": [],
   "source": [
    "#raw_results.to_csv('raw_resultsLandScan2010.csv')\n",
    "#raw_results = pd.read_csv('raw_resultsLandScan2010.csv', index_col=0)"
   ]
  },
  {
   "cell_type": "code",
   "execution_count": 45,
   "metadata": {},
   "outputs": [
    {
     "name": "stdout",
     "output_type": "stream",
     "text": [
      "CD_GEOCODM     object\n",
      "NM_AGSN        object\n",
      "CodAGSN       float64\n",
      "sum           float64\n",
      "dtype: object\n"
     ]
    }
   ],
   "source": [
    "raw_results['sum'] = raw_results['sum'].astype(float)\n",
    "raw_results['CodAGSN'] = raw_results['CodAGSN'].astype(float)\n",
    "print(raw_results.dtypes)\n",
    "raw_results.columns = ['CD_GEOCODM','NM_AGSN','CodAGSN','Estimated_Population']"
   ]
  },
  {
   "cell_type": "code",
   "execution_count": 47,
   "metadata": {},
   "outputs": [],
   "source": [
    "results3 =  raw_results.merge(raw_groundtruth,on=['CodAGSN'])\n",
    "results3['AbsoluteDifference'] = results3['Estimated_Population']-results3['Pop_EmAGSN']\n",
    "results3['ProportionalDifference'] = results3['AbsoluteDifference']/results3['Pop_EmAGSN']"
   ]
  },
  {
   "cell_type": "code",
   "execution_count": 50,
   "metadata": {},
   "outputs": [],
   "source": [
    "results3.to_csv('resultsLandScan2010_repo.csv')"
   ]
  },
  {
   "cell_type": "code",
   "execution_count": 48,
   "metadata": {},
   "outputs": [],
   "source": [
    "a = results3['ProportionalDifference']\n",
    "conditions = [(a >= -.2) & (a <= 0.2), (a < -0.2) & (a >= -1), (a > 0.2) & (a <= 1), (a < -1), (a > +1)]\n",
    "choices = ['green', 'yellow', 'orange','purple','red']\n",
    "res = np.select(conditions, choices)"
   ]
  },
  {
   "cell_type": "code",
   "execution_count": 49,
   "metadata": {},
   "outputs": [
    {
     "data": {
      "text/plain": [
       "Counter({'red': 50, '0': 1607, 'green': 7, 'orange': 12, 'yellow': 27})"
      ]
     },
     "execution_count": 49,
     "metadata": {},
     "output_type": "execute_result"
    }
   ],
   "source": [
    "collections.Counter(res)"
   ]
  },
  {
   "cell_type": "markdown",
   "metadata": {},
   "source": [
    "Thank you."
   ]
  }
 ],
 "metadata": {
  "kernelspec": {
   "display_name": "Python 3.7.8 64-bit ('earth-analytics-python': conda)",
   "language": "python",
   "name": "python37864bitearthanalyticspythonconda5b43da4d7e964164af75391b9c97aa5f"
  },
  "language_info": {
   "codemirror_mode": {
    "name": "ipython",
    "version": 3
   },
   "file_extension": ".py",
   "mimetype": "text/x-python",
   "name": "python",
   "nbconvert_exporter": "python",
   "pygments_lexer": "ipython3",
   "version": "3.7.8"
  }
 },
 "nbformat": 4,
 "nbformat_minor": 4
}
